{
 "cells": [
  {
   "cell_type": "markdown",
   "metadata": {},
   "source": [
    "## Import Libraries"
   ]
  },
  {
   "cell_type": "code",
   "execution_count": 1,
   "metadata": {},
   "outputs": [],
   "source": [
    "import matplotlib.pyplot as plt\n",
    "import numpy as np\n",
    "import pandas as pd\n",
    "import math\n",
    "\n",
    "from sklearn import datasets\n",
    "from sklearn.metrics import mean_squared_error, r2_score"
   ]
  },
  {
   "cell_type": "markdown",
   "metadata": {},
   "source": [
    "## Load Dataset"
   ]
  },
  {
   "cell_type": "code",
   "execution_count": 2,
   "metadata": {},
   "outputs": [
    {
     "name": "stdout",
     "output_type": "stream",
     "text": [
      "Input dimension:  (442, 10)\n",
      "Input data type:  <class 'numpy.ndarray'>\n",
      "Target dimension:  (442,)\n",
      "Target data type:  <class 'numpy.ndarray'>\n"
     ]
    }
   ],
   "source": [
    "diabetes = datasets.load_diabetes()\n",
    "print(\"Input dimension: \", diabetes.data.shape)\n",
    "print(\"Input data type: \", type(diabetes.data))\n",
    "print(\"Target dimension: \", diabetes.target.shape)\n",
    "print(\"Target data type: \", type(diabetes.target))"
   ]
  },
  {
   "cell_type": "code",
   "execution_count": 3,
   "metadata": {},
   "outputs": [
    {
     "name": "stdout",
     "output_type": "stream",
     "text": [
      "(361, 10) (361,) (80, 10) (80,)\n"
     ]
    }
   ],
   "source": [
    "diabetes_X = diabetes.data\n",
    "\n",
    "diabetes_X_train = diabetes_X[:361]\n",
    "diabetes_y_train = diabetes.target[:361]\n",
    "\n",
    "diabetes_X_test = diabetes_X[362:]\n",
    "diabetes_y_test = diabetes.target[362:]\n",
    "print(diabetes_X_train.shape, diabetes_y_train.shape, diabetes_X_test.shape, diabetes_y_test.shape)"
   ]
  },
  {
   "cell_type": "markdown",
   "metadata": {},
   "source": [
    "## Define model"
   ]
  },
  {
   "cell_type": "code",
   "execution_count": 4,
   "metadata": {},
   "outputs": [],
   "source": [
    "from my_dnn import model, optimizers, loss, metrics\n",
    "my_model = model.SimpleMlp(layer_dims=[10, 20, 20, 10, 1], output_activation='linear')"
   ]
  },
  {
   "cell_type": "markdown",
   "metadata": {},
   "source": [
    "## Compile model"
   ]
  },
  {
   "cell_type": "code",
   "execution_count": 5,
   "metadata": {},
   "outputs": [],
   "source": [
    "my_model.compile(optimizer = optimizers.Adam(learning_rate= 0.005), loss=loss.MSE(), metrics=metrics.RMSE())"
   ]
  },
  {
   "cell_type": "markdown",
   "metadata": {},
   "source": [
    "## Train model"
   ]
  },
  {
   "cell_type": "code",
   "execution_count": 6,
   "metadata": {},
   "outputs": [
    {
     "name": "stdout",
     "output_type": "stream",
     "text": [
      "Epoch 0 Cost: 28940.117502305064 Eval: 169.4968055311586 Val Cost: 29092.58428928848 Val Eval: 170.23594917867885\n",
      "Epoch 1 Cost: 28615.289971199712 Eval: 168.7970025649248 Val Cost: 28532.825575398594 Val Eval: 168.4636026519354\n",
      "Epoch 2 Cost: 27725.554874012676 Eval: 166.0849941907425 Val Cost: 27053.084115840098 Val Eval: 164.22506821610864\n",
      "Epoch 3 Cost: 25504.11777488195 Eval: 159.2957508494754 Val Cost: 23630.981417490773 Val Eval: 153.35038469046356\n",
      "Epoch 4 Cost: 20879.909857276718 Eval: 143.5129776935768 Val Cost: 17122.2016630122 Val Eval: 130.20752391320138\n",
      "Epoch 5 Cost: 13192.937197706004 Eval: 113.75755729273024 Val Cost: 8515.735855520852 Val Eval: 91.35292821830986\n",
      "Epoch 6 Cost: 6068.58702697649 Eval: 77.26451924300756 Val Cost: 4704.621636287786 Val Eval: 68.34277570939088\n",
      "Epoch 7 Cost: 4669.467671536298 Eval: 68.09943983260615 Val Cost: 4503.916308694019 Val Eval: 67.10973304519686\n",
      "Epoch 8 Cost: 4175.50321364393 Eval: 64.27582766632109 Val Cost: 4067.6210756554983 Val Eval: 63.621301354917684\n",
      "Epoch 9 Cost: 3956.6471192959016 Eval: 62.492741884119496 Val Cost: 3868.2583251077435 Val Eval: 61.820065771265874\n",
      "Epoch 10 Cost: 3785.887982819433 Eval: 61.22353420493172 Val Cost: 3710.824288933954 Val Eval: 60.813575362680965\n",
      "Epoch 11 Cost: 3703.7756743877894 Eval: 60.40505931838754 Val Cost: 3590.8552843183325 Val Eval: 59.85223944495361\n",
      "Epoch 12 Cost: 3568.3428439185045 Eval: 59.00220150068807 Val Cost: 3478.1124393250075 Val Eval: 58.90751734777966\n",
      "Epoch 13 Cost: 3478.9796884162056 Eval: 58.31689085029026 Val Cost: 3377.444875960121 Val Eval: 58.02682556499572\n",
      "Epoch 14 Cost: 3412.3036261291863 Eval: 58.13460015744852 Val Cost: 3289.0376346783596 Val Eval: 57.07318981267175\n",
      "Epoch 15 Cost: 3353.324388249696 Eval: 57.59829071884211 Val Cost: 3216.931418624129 Val Eval: 56.09094292991949\n",
      "Epoch 16 Cost: 3282.094483244605 Eval: 57.03421092407551 Val Cost: 3145.9792753217316 Val Eval: 56.072975380782985\n",
      "Epoch 17 Cost: 3276.3008199178175 Eval: 56.983624164228424 Val Cost: 3088.2757020127588 Val Eval: 55.037669428810794\n",
      "Epoch 18 Cost: 3196.0461399067326 Eval: 56.20931724746275 Val Cost: 3038.4447367341104 Val Eval: 55.09370584043637\n",
      "Epoch 19 Cost: 3158.607787351042 Eval: 55.872687203884546 Val Cost: 3004.497278146361 Val Eval: 54.229329987528175\n",
      "Epoch 20 Cost: 3130.4755221911128 Eval: 55.61731998703641 Val Cost: 2966.183067421239 Val Eval: 54.38028562661822\n",
      "Epoch 21 Cost: 3113.67776522088 Eval: 55.133503335729635 Val Cost: 2927.6599059486293 Val Eval: 54.08223888384218\n",
      "Epoch 22 Cost: 3070.852242031557 Eval: 55.20320247160818 Val Cost: 2901.012758619415 Val Eval: 53.612562878631174\n",
      "Epoch 23 Cost: 3048.769366229633 Eval: 54.99617551724085 Val Cost: 2880.641992625825 Val Eval: 53.3936212931531\n",
      "Epoch 24 Cost: 3036.3912696766506 Eval: 54.845452277009386 Val Cost: 2855.73454477614 Val Eval: 53.10498878064884\n",
      "Epoch 25 Cost: 3004.0216879508275 Eval: 54.51909645320048 Val Cost: 2830.610842365434 Val Eval: 53.17530560230985\n",
      "Epoch 26 Cost: 3008.1235808508895 Eval: 54.22435705538934 Val Cost: 2811.6860027071707 Val Eval: 52.55756545925449\n",
      "Epoch 27 Cost: 2984.6866132801692 Eval: 54.36480175955673 Val Cost: 2811.8055761278865 Val Eval: 52.43823448341671\n",
      "Epoch 28 Cost: 2970.800725574691 Eval: 54.245021740626655 Val Cost: 2799.0131379228787 Val Eval: 52.72526721121212\n",
      "Epoch 29 Cost: 2965.648386919746 Eval: 54.09830778782209 Val Cost: 2777.3914618264052 Val Eval: 52.46446114874406\n",
      "Epoch 30 Cost: 2960.8164943929664 Eval: 53.69362404202093 Val Cost: 2766.733316924348 Val Eval: 52.35938761823404\n",
      "Epoch 31 Cost: 2945.491987170092 Eval: 53.733914342561484 Val Cost: 2770.981406431308 Val Eval: 51.968378745566724\n",
      "Epoch 32 Cost: 2953.1276619194296 Eval: 54.135500297061725 Val Cost: 2767.194931666115 Val Eval: 52.27430755116568\n",
      "Epoch 33 Cost: 2949.839921203471 Eval: 54.136611595337826 Val Cost: 2760.2770724389766 Val Eval: 51.90197118970684\n",
      "Epoch 34 Cost: 2926.8763079530245 Eval: 53.71893858023001 Val Cost: 2753.6584034643756 Val Eval: 52.15587150145543\n",
      "Epoch 35 Cost: 2919.621204308694 Eval: 53.67932172084474 Val Cost: 2758.881968784269 Val Eval: 52.37876719526897\n",
      "Epoch 36 Cost: 2937.7707550317787 Eval: 53.98199496767231 Val Cost: 2735.915933283362 Val Eval: 51.75914158909236\n",
      "Epoch 37 Cost: 2918.891365260501 Eval: 53.84104695361394 Val Cost: 2740.8152397900903 Val Eval: 52.23552366071258\n",
      "Epoch 38 Cost: 2901.0440212517515 Eval: 53.64477995852422 Val Cost: 2733.7621281504385 Val Eval: 52.21579894177493\n",
      "Epoch 39 Cost: 2903.9488294041275 Eval: 53.59895371439799 Val Cost: 2735.756035142723 Val Eval: 52.29803097008522\n",
      "Epoch 40 Cost: 2890.9461279265497 Eval: 53.446779145186824 Val Cost: 2721.918167249647 Val Eval: 51.69085095854079\n",
      "Epoch 41 Cost: 2897.506883862971 Eval: 53.43498467545444 Val Cost: 2722.716933267474 Val Eval: 52.05200887798774\n",
      "Epoch 42 Cost: 2890.528046698215 Eval: 53.526895489512114 Val Cost: 2726.0521277362386 Val Eval: 51.85202960893571\n",
      "Epoch 43 Cost: 2885.4907587442162 Eval: 53.51528029322609 Val Cost: 2743.707121233054 Val Eval: 51.93925091636676\n",
      "Epoch 44 Cost: 2894.031636467794 Eval: 53.485134558917245 Val Cost: 2738.3980325072134 Val Eval: 51.53865387288897\n",
      "Epoch 45 Cost: 2898.133980593995 Eval: 53.559147174656964 Val Cost: 2714.466360344019 Val Eval: 51.600020926437594\n",
      "Epoch 46 Cost: 2876.8191372436554 Eval: 53.06951852503569 Val Cost: 2711.2241703997684 Val Eval: 51.95351841979851\n",
      "Epoch 47 Cost: 2892.3302263238916 Eval: 53.522870422157396 Val Cost: 2714.9957537069695 Val Eval: 52.0861279004445\n",
      "Epoch 48 Cost: 2876.517585092005 Eval: 53.23178373570681 Val Cost: 2703.487156853013 Val Eval: 51.86320577865515\n",
      "Epoch 49 Cost: 2887.9895942338194 Eval: 53.28692800299517 Val Cost: 2699.2362856318455 Val Eval: 51.514854531366815\n"
     ]
    }
   ],
   "source": [
    "my_model.fit(diabetes_X_train, diabetes_y_train, validation_data = (diabetes_X_test, diabetes_y_test), epochs=50, batch_size=32, verbose=1)"
   ]
  },
  {
   "cell_type": "markdown",
   "metadata": {},
   "source": [
    "## Plot results"
   ]
  },
  {
   "cell_type": "code",
   "execution_count": 7,
   "metadata": {},
   "outputs": [],
   "source": [
    "history = my_model.get_history()"
   ]
  },
  {
   "cell_type": "code",
   "execution_count": 8,
   "metadata": {},
   "outputs": [
    {
     "data": {
      "image/png": "[encoded data removed]",
      "text/plain": [
       "<Figure size 640x480 with 1 Axes>"
      ]
     },
     "metadata": {},
     "output_type": "display_data"
    }
   ],
   "source": [
    "# plt.plot(np.squeeze(my_model.get_costs()), label='cost')\n",
    "plt.plot(np.squeeze(history['eval']), label='eval')\n",
    "plt.plot(np.squeeze(history['val_eval']), label='val_eval')\n",
    "plt.xlabel('epochs')\n",
    "# plt.title(\"Learning rate =\" + str(learning_rate))\n",
    "plt.legend()\n",
    "plt.show()"
   ]
  },
  {
   "cell_type": "code",
   "execution_count": 9,
   "metadata": {},
   "outputs": [
    {
     "name": "stdout",
     "output_type": "stream",
     "text": [
      "Gia tri du doan cho mô hình linear regression:  [[234.23196499]]\n"
     ]
    }
   ],
   "source": [
    "y_pred_linear = my_model.predict(diabetes_X_test[0:1, :])\n",
    "print(\"Gia tri du doan cho mô hình linear regression: \", y_pred_linear)"
   ]
  },
  {
   "cell_type": "code",
   "execution_count": 10,
   "metadata": {},
   "outputs": [
    {
     "data": {
      "text/html": [
       "<div>\n",
       "<style scoped>\n",
       "    .dataframe tbody tr th:only-of-type {\n",
       "        vertical-align: middle;\n",
       "    }\n",
       "\n",
       "    .dataframe tbody tr th {\n",
       "        vertical-align: top;\n",
       "    }\n",
       "\n",
       "    .dataframe thead th {\n",
       "        text-align: right;\n",
       "    }\n",
       "</style>\n",
       "<table border=\"1\" class=\"dataframe\">\n",
       "  <thead>\n",
       "    <tr style=\"text-align: right;\">\n",
       "      <th></th>\n",
       "      <th>Labels</th>\n",
       "      <th>Predictions</th>\n",
       "      <th>Dif</th>\n",
       "    </tr>\n",
       "  </thead>\n",
       "  <tbody>\n",
       "    <tr>\n",
       "      <th>0</th>\n",
       "      <td>321.0</td>\n",
       "      <td>234.231965</td>\n",
       "      <td>86.768035</td>\n",
       "    </tr>\n",
       "    <tr>\n",
       "      <th>1</th>\n",
       "      <td>58.0</td>\n",
       "      <td>156.427485</td>\n",
       "      <td>98.427485</td>\n",
       "    </tr>\n",
       "    <tr>\n",
       "      <th>2</th>\n",
       "      <td>262.0</td>\n",
       "      <td>158.039496</td>\n",
       "      <td>103.960504</td>\n",
       "    </tr>\n",
       "    <tr>\n",
       "      <th>3</th>\n",
       "      <td>206.0</td>\n",
       "      <td>162.464089</td>\n",
       "      <td>43.535911</td>\n",
       "    </tr>\n",
       "    <tr>\n",
       "      <th>4</th>\n",
       "      <td>233.0</td>\n",
       "      <td>253.978218</td>\n",
       "      <td>20.978218</td>\n",
       "    </tr>\n",
       "    <tr>\n",
       "      <th>...</th>\n",
       "      <td>...</td>\n",
       "      <td>...</td>\n",
       "      <td>...</td>\n",
       "    </tr>\n",
       "    <tr>\n",
       "      <th>75</th>\n",
       "      <td>178.0</td>\n",
       "      <td>189.540748</td>\n",
       "      <td>11.540748</td>\n",
       "    </tr>\n",
       "    <tr>\n",
       "      <th>76</th>\n",
       "      <td>104.0</td>\n",
       "      <td>103.672953</td>\n",
       "      <td>0.327047</td>\n",
       "    </tr>\n",
       "    <tr>\n",
       "      <th>77</th>\n",
       "      <td>132.0</td>\n",
       "      <td>122.167838</td>\n",
       "      <td>9.832162</td>\n",
       "    </tr>\n",
       "    <tr>\n",
       "      <th>78</th>\n",
       "      <td>220.0</td>\n",
       "      <td>203.465376</td>\n",
       "      <td>16.534624</td>\n",
       "    </tr>\n",
       "    <tr>\n",
       "      <th>79</th>\n",
       "      <td>57.0</td>\n",
       "      <td>60.313357</td>\n",
       "      <td>3.313357</td>\n",
       "    </tr>\n",
       "  </tbody>\n",
       "</table>\n",
       "<p>80 rows × 3 columns</p>\n",
       "</div>"
      ],
      "text/plain": [
       "    Labels  Predictions         Dif\n",
       "0    321.0   234.231965   86.768035\n",
       "1     58.0   156.427485   98.427485\n",
       "2    262.0   158.039496  103.960504\n",
       "3    206.0   162.464089   43.535911\n",
       "4    233.0   253.978218   20.978218\n",
       "..     ...          ...         ...\n",
       "75   178.0   189.540748   11.540748\n",
       "76   104.0   103.672953    0.327047\n",
       "77   132.0   122.167838    9.832162\n",
       "78   220.0   203.465376   16.534624\n",
       "79    57.0    60.313357    3.313357\n",
       "\n",
       "[80 rows x 3 columns]"
      ]
     },
     "execution_count": 10,
     "metadata": {},
     "output_type": "execute_result"
    }
   ],
   "source": [
    "diabetes_y_pred = my_model.predict(diabetes_X_test)\n",
    "diabetes_y_test = np.array(diabetes_y_test)\n",
    "diabetes_y_pred = np.array(diabetes_y_pred).reshape(diabetes_y_test.shape)\n",
    "pd.DataFrame(data=np.array([diabetes_y_test, diabetes_y_pred,\n",
    "                            abs(diabetes_y_test - diabetes_y_pred)]).T,\n",
    "             columns=[\"Labels\", \"Predictions\", \"Dif\"])"
   ]
  },
  {
   "cell_type": "code",
   "execution_count": 11,
   "metadata": {},
   "outputs": [
    {
     "data": {
      "text/plain": [
       "51.95417486239047"
      ]
     },
     "execution_count": 11,
     "metadata": {},
     "output_type": "execute_result"
    }
   ],
   "source": [
    "math.sqrt(mean_squared_error(diabetes_y_test, diabetes_y_pred))"
   ]
  }
 ],
 "metadata": {
  "kernelspec": {
   "display_name": "base",
   "language": "python",
   "name": "python3"
  },
  "language_info": {
   "codemirror_mode": {
    "name": "ipython",
    "version": 3
   },
   "file_extension": ".py",
   "mimetype": "text/x-python",
   "name": "python",
   "nbconvert_exporter": "python",
   "pygments_lexer": "ipython3",
   "version": "3.11.5"
  }
 },
 "nbformat": 4,
 "nbformat_minor": 2
}
