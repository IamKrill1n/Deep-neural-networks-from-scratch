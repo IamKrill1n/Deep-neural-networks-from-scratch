{
 "cells": [
  {
   "cell_type": "markdown",
   "metadata": {},
   "source": [
    "## Import Libraries"
   ]
  },
  {
   "cell_type": "code",
   "execution_count": 1,
   "metadata": {},
   "outputs": [],
   "source": [
    "import matplotlib.pyplot as plt\n",
    "import numpy as np\n",
    "import pandas as pd\n",
    "import math\n",
    "\n",
    "from sklearn import datasets\n",
    "from sklearn.metrics import mean_squared_error, r2_score"
   ]
  },
  {
   "cell_type": "markdown",
   "metadata": {},
   "source": [
    "## Load Dataset"
   ]
  },
  {
   "cell_type": "code",
   "execution_count": 2,
   "metadata": {},
   "outputs": [
    {
     "name": "stdout",
     "output_type": "stream",
     "text": [
      "Input dimension:  (442, 10)\n",
      "Input data type:  <class 'numpy.ndarray'>\n",
      "Target dimension:  (442,)\n",
      "Target data type:  <class 'numpy.ndarray'>\n"
     ]
    }
   ],
   "source": [
    "diabetes = datasets.load_diabetes()\n",
    "print(\"Input dimension: \", diabetes.data.shape)\n",
    "print(\"Input data type: \", type(diabetes.data))\n",
    "print(\"Target dimension: \", diabetes.target.shape)\n",
    "print(\"Target data type: \", type(diabetes.target))"
   ]
  },
  {
   "cell_type": "code",
   "execution_count": 3,
   "metadata": {},
   "outputs": [
    {
     "name": "stdout",
     "output_type": "stream",
     "text": [
      "(361, 10) (361,) (80, 10) (80,)\n"
     ]
    }
   ],
   "source": [
    "diabetes_X = diabetes.data\n",
    "\n",
    "diabetes_X_train = diabetes_X[:361]\n",
    "diabetes_y_train = diabetes.target[:361]\n",
    "\n",
    "diabetes_X_test = diabetes_X[362:]\n",
    "diabetes_y_test = diabetes.target[362:]\n",
    "print(diabetes_X_train.shape, diabetes_y_train.shape, diabetes_X_test.shape, diabetes_y_test.shape)"
   ]
  },
  {
   "cell_type": "markdown",
   "metadata": {},
   "source": [
    "## Define model"
   ]
  },
  {
   "cell_type": "code",
   "execution_count": 4,
   "metadata": {},
   "outputs": [],
   "source": [
    "from my_dnn import model, optimizers, loss, metrics\n",
    "my_model = model.SimpleMlp(layer_dims=[10, 20, 20, 10, 1], output_activation='linear')"
   ]
  },
  {
   "cell_type": "markdown",
   "metadata": {},
   "source": [
    "## Compile model"
   ]
  },
  {
   "cell_type": "code",
   "execution_count": 5,
   "metadata": {},
   "outputs": [],
   "source": [
    "my_model.compile(optimizer = optimizers.Adam(learning_rate= 0.005), loss=loss.MSE(), metrics=metrics.RMSE())"
   ]
  },
  {
   "cell_type": "markdown",
   "metadata": {},
   "source": [
    "## Train model"
   ]
  },
  {
   "cell_type": "code",
   "execution_count": 6,
   "metadata": {},
   "outputs": [
    {
     "name": "stdout",
     "output_type": "stream",
     "text": [
      "Epoch 0 Cost: 28940.117534438246 Eval: 169.49680562591246 Val Cost: 29097.732292669534 Val Eval: 170.25107602966963\n",
      "Epoch 1 Cost: 28668.96584977613 Eval: 168.95649632463594 Val Cost: 28684.996160346484 Val Eval: 168.91385000143197\n",
      "Epoch 2 Cost: 28047.099448544275 Eval: 167.04463830496974 Val Cost: 27682.253621137566 Val Eval: 166.12563356971185\n",
      "Epoch 3 Cost: 26550.46067252541 Eval: 162.51082034945247 Val Cost: 25385.7304383514 Val Eval: 158.95212695612472\n",
      "Epoch 4 Cost: 23579.828957226164 Eval: 152.66411871140303 Val Cost: 21289.549115716763 Val Eval: 145.29069265609138\n",
      "Epoch 5 Cost: 18282.783739969484 Eval: 134.41157665749643 Val Cost: 14368.488798489165 Val Eval: 118.87861161961519\n",
      "Epoch 6 Cost: 10823.775519256818 Eval: 103.02309540459518 Val Cost: 6917.275693568709 Val Eval: 82.80157591344157\n",
      "Epoch 7 Cost: 5366.3528384289675 Eval: 72.48280260174775 Val Cost: 4835.596761391976 Val Eval: 69.53662927136992\n",
      "Epoch 8 Cost: 4616.578384896304 Eval: 67.62110569189554 Val Cost: 4548.4327516056455 Val Eval: 67.31820932349078\n",
      "Epoch 9 Cost: 4281.695961741838 Eval: 65.05553623482628 Val Cost: 4204.602775641552 Val Eval: 64.5649594338515\n",
      "Epoch 10 Cost: 4070.304448180457 Eval: 63.565180888810886 Val Cost: 4076.117991487362 Val Eval: 63.61543476761649\n",
      "Epoch 11 Cost: 4192.357916254891 Eval: 64.24080558277142 Val Cost: 4088.6746292047246 Val Eval: 63.905246887524925\n",
      "Epoch 12 Cost: 3847.900224849233 Eval: 61.18596665839922 Val Cost: 3753.6757120266025 Val Eval: 61.24517754253473\n",
      "Epoch 13 Cost: 3706.268539969768 Eval: 60.27147138962752 Val Cost: 3647.435527178967 Val Eval: 60.31169994818121\n",
      "Epoch 14 Cost: 3622.0764288153196 Eval: 59.903397061891475 Val Cost: 3533.9817126036623 Val Eval: 59.16033299447171\n",
      "Epoch 15 Cost: 3562.038464370928 Eval: 59.37656723812931 Val Cost: 3459.6542935101265 Val Eval: 58.229314747897135\n",
      "Epoch 16 Cost: 3457.777903186981 Eval: 58.53861362196435 Val Cost: 3403.499254293753 Val Eval: 58.28972486369804\n",
      "Epoch 17 Cost: 3559.3341459669077 Eval: 59.379231564660806 Val Cost: 3382.273703256474 Val Eval: 57.87430873322914\n",
      "Epoch 18 Cost: 3423.6426397101905 Eval: 58.19546725237641 Val Cost: 3238.9555512796046 Val Eval: 56.88376082966558\n",
      "Epoch 19 Cost: 3343.111471819526 Eval: 57.48782864487818 Val Cost: 3238.7153712817953 Val Eval: 56.55725338970008\n",
      "Epoch 20 Cost: 3356.5653304169523 Eval: 57.58034027232473 Val Cost: 3212.1763160144856 Val Eval: 56.608703612810665\n",
      "Epoch 21 Cost: 3289.6161753203833 Eval: 56.660141531975476 Val Cost: 3124.992866714245 Val Eval: 55.87371568203675\n",
      "Epoch 22 Cost: 3239.947368579967 Eval: 56.69417039266157 Val Cost: 3086.1741868591475 Val Eval: 55.28872469130558\n",
      "Epoch 23 Cost: 3225.5321002929654 Eval: 56.58870734740916 Val Cost: 3047.217580774389 Val Eval: 54.674536688717566\n",
      "Epoch 24 Cost: 3186.6772359382057 Eval: 56.20746785354569 Val Cost: 2999.659543341462 Val Eval: 54.48815304910655\n",
      "Epoch 25 Cost: 3141.734136045248 Eval: 55.75114265559105 Val Cost: 2963.6457877924236 Val Eval: 54.42179603840357\n",
      "Epoch 26 Cost: 3169.3611477459553 Eval: 55.72079213360355 Val Cost: 2941.4453094738146 Val Eval: 53.91952926733641\n",
      "Epoch 27 Cost: 3082.8810188925027 Eval: 55.273827458651304 Val Cost: 2986.0976946284973 Val Eval: 53.92291046153108\n",
      "Epoch 28 Cost: 3145.653645743334 Eval: 55.82186622583231 Val Cost: 2939.5771592585857 Val Eval: 54.10178739115564\n",
      "Epoch 29 Cost: 3041.9795971775156 Eval: 54.80113654920777 Val Cost: 2853.7509463438696 Val Eval: 53.344899063414104\n",
      "Epoch 30 Cost: 3126.765781748355 Eval: 55.2327414055956 Val Cost: 2882.9556558586964 Val Eval: 53.346510470955685\n",
      "Epoch 31 Cost: 3053.8437736127157 Eval: 54.70161525163065 Val Cost: 2828.800166145825 Val Eval: 52.65490261456863\n",
      "Epoch 32 Cost: 3042.345097965798 Eval: 54.95382627468619 Val Cost: 2819.0207309689167 Val Eval: 52.874177533558324\n",
      "Epoch 33 Cost: 3071.271519932432 Eval: 55.2371254614067 Val Cost: 2803.420007989661 Val Eval: 52.50050856811265\n",
      "Epoch 34 Cost: 2979.4240517609546 Eval: 54.208235383341965 Val Cost: 2787.3792879093126 Val Eval: 52.596754027299895\n",
      "Epoch 35 Cost: 2981.723377437887 Eval: 54.2876569770321 Val Cost: 2786.519833565978 Val Eval: 52.65624184555976\n",
      "Epoch 36 Cost: 2984.051830584968 Eval: 54.4269042017301 Val Cost: 2767.8585307015846 Val Eval: 51.93063160498531\n",
      "Epoch 37 Cost: 2972.4250266761337 Eval: 54.3173657591315 Val Cost: 2748.0430512293137 Val Eval: 52.33846825602732\n",
      "Epoch 38 Cost: 2957.052634630454 Eval: 54.172764192583465 Val Cost: 2741.587653047183 Val Eval: 52.30273620478016\n",
      "Epoch 39 Cost: 2951.153797377547 Eval: 54.07073085861486 Val Cost: 2746.4458847526485 Val Eval: 52.38649054147648\n",
      "Epoch 40 Cost: 2948.2122780512464 Eval: 54.01588534595057 Val Cost: 2739.7195118180193 Val Eval: 51.803697056934524\n",
      "Epoch 41 Cost: 2973.2610303735664 Eval: 54.16192011532708 Val Cost: 2715.7615027080983 Val Eval: 51.94461790906301\n",
      "Epoch 42 Cost: 2961.610292628295 Eval: 54.198666985220115 Val Cost: 2721.845125473712 Val Eval: 51.89819874224761\n",
      "Epoch 43 Cost: 2965.8992209438534 Eval: 54.23297755668754 Val Cost: 2877.0079707752257 Val Eval: 53.129205099118494\n",
      "Epoch 44 Cost: 2942.471651393729 Eval: 53.94778860667844 Val Cost: 2740.576838931981 Val Eval: 51.64886486341218\n",
      "Epoch 45 Cost: 2966.367567106576 Eval: 54.19654694802315 Val Cost: 2770.260236419369 Val Eval: 52.199825141210155\n",
      "Epoch 46 Cost: 2937.3028997008932 Eval: 53.740468048710724 Val Cost: 2732.2066860394684 Val Eval: 52.18039183736225\n",
      "Epoch 47 Cost: 2922.8527724485984 Eval: 53.79898956898395 Val Cost: 2711.712537786129 Val Eval: 52.055859520428044\n",
      "Epoch 48 Cost: 2936.64735553172 Eval: 53.761559997764905 Val Cost: 2727.4313030152816 Val Eval: 52.0643713515939\n",
      "Epoch 49 Cost: 2968.2471122360353 Eval: 54.03838838454302 Val Cost: 2722.570859894817 Val Eval: 51.69746170699375\n"
     ]
    }
   ],
   "source": [
    "my_model.fit(diabetes_X_train, diabetes_y_train, validation_data = (diabetes_X_test, diabetes_y_test), epochs=50, batch_size=32, verbose=1)"
   ]
  },
  {
   "cell_type": "markdown",
   "metadata": {},
   "source": [
    "## Plot results"
   ]
  },
  {
   "cell_type": "code",
   "execution_count": 7,
   "metadata": {},
   "outputs": [],
   "source": [
    "history = my_model.get_history()"
   ]
  },
  {
   "cell_type": "code",
   "execution_count": 8,
   "metadata": {},
   "outputs": [
    {
     "data": {
      "image/png": "[encoded data removed]",
      "text/plain": [
       "<Figure size 640x480 with 1 Axes>"
      ]
     },
     "metadata": {},
     "output_type": "display_data"
    }
   ],
   "source": [
    "# plt.plot(np.squeeze(my_model.get_costs()), label='cost')\n",
    "plt.plot(np.squeeze(history['eval']), label='eval')\n",
    "plt.plot(np.squeeze(history['val_eval']), label='val_eval')\n",
    "plt.xlabel('epochs')\n",
    "# plt.title(\"Learning rate =\" + str(learning_rate))\n",
    "plt.legend()\n",
    "plt.show()"
   ]
  },
  {
   "cell_type": "code",
   "execution_count": 9,
   "metadata": {},
   "outputs": [
    {
     "name": "stdout",
     "output_type": "stream",
     "text": [
      "Gia tri du doan cho mô hình linear regression:  [[221.28058566]]\n"
     ]
    }
   ],
   "source": [
    "y_pred_linear = my_model.predict(diabetes_X_test[0:1, :])\n",
    "print(\"Gia tri du doan cho mô hình linear regression: \", y_pred_linear)"
   ]
  },
  {
   "cell_type": "code",
   "execution_count": 10,
   "metadata": {},
   "outputs": [
    {
     "data": {
      "text/html": [
       "<div>\n",
       "<style scoped>\n",
       "    .dataframe tbody tr th:only-of-type {\n",
       "        vertical-align: middle;\n",
       "    }\n",
       "\n",
       "    .dataframe tbody tr th {\n",
       "        vertical-align: top;\n",
       "    }\n",
       "\n",
       "    .dataframe thead th {\n",
       "        text-align: right;\n",
       "    }\n",
       "</style>\n",
       "<table border=\"1\" class=\"dataframe\">\n",
       "  <thead>\n",
       "    <tr style=\"text-align: right;\">\n",
       "      <th></th>\n",
       "      <th>Labels</th>\n",
       "      <th>Predictions</th>\n",
       "      <th>Dif</th>\n",
       "    </tr>\n",
       "  </thead>\n",
       "  <tbody>\n",
       "    <tr>\n",
       "      <th>0</th>\n",
       "      <td>321.0</td>\n",
       "      <td>221.280586</td>\n",
       "      <td>99.719414</td>\n",
       "    </tr>\n",
       "    <tr>\n",
       "      <th>1</th>\n",
       "      <td>58.0</td>\n",
       "      <td>153.628842</td>\n",
       "      <td>95.628842</td>\n",
       "    </tr>\n",
       "    <tr>\n",
       "      <th>2</th>\n",
       "      <td>262.0</td>\n",
       "      <td>153.953917</td>\n",
       "      <td>108.046083</td>\n",
       "    </tr>\n",
       "    <tr>\n",
       "      <th>3</th>\n",
       "      <td>206.0</td>\n",
       "      <td>157.369243</td>\n",
       "      <td>48.630757</td>\n",
       "    </tr>\n",
       "    <tr>\n",
       "      <th>4</th>\n",
       "      <td>233.0</td>\n",
       "      <td>243.493076</td>\n",
       "      <td>10.493076</td>\n",
       "    </tr>\n",
       "    <tr>\n",
       "      <th>...</th>\n",
       "      <td>...</td>\n",
       "      <td>...</td>\n",
       "      <td>...</td>\n",
       "    </tr>\n",
       "    <tr>\n",
       "      <th>75</th>\n",
       "      <td>178.0</td>\n",
       "      <td>180.781587</td>\n",
       "      <td>2.781587</td>\n",
       "    </tr>\n",
       "    <tr>\n",
       "      <th>76</th>\n",
       "      <td>104.0</td>\n",
       "      <td>104.230277</td>\n",
       "      <td>0.230277</td>\n",
       "    </tr>\n",
       "    <tr>\n",
       "      <th>77</th>\n",
       "      <td>132.0</td>\n",
       "      <td>118.162803</td>\n",
       "      <td>13.837197</td>\n",
       "    </tr>\n",
       "    <tr>\n",
       "      <th>78</th>\n",
       "      <td>220.0</td>\n",
       "      <td>199.063288</td>\n",
       "      <td>20.936712</td>\n",
       "    </tr>\n",
       "    <tr>\n",
       "      <th>79</th>\n",
       "      <td>57.0</td>\n",
       "      <td>57.756040</td>\n",
       "      <td>0.756040</td>\n",
       "    </tr>\n",
       "  </tbody>\n",
       "</table>\n",
       "<p>80 rows × 3 columns</p>\n",
       "</div>"
      ],
      "text/plain": [
       "    Labels  Predictions         Dif\n",
       "0    321.0   221.280586   99.719414\n",
       "1     58.0   153.628842   95.628842\n",
       "2    262.0   153.953917  108.046083\n",
       "3    206.0   157.369243   48.630757\n",
       "4    233.0   243.493076   10.493076\n",
       "..     ...          ...         ...\n",
       "75   178.0   180.781587    2.781587\n",
       "76   104.0   104.230277    0.230277\n",
       "77   132.0   118.162803   13.837197\n",
       "78   220.0   199.063288   20.936712\n",
       "79    57.0    57.756040    0.756040\n",
       "\n",
       "[80 rows x 3 columns]"
      ]
     },
     "execution_count": 10,
     "metadata": {},
     "output_type": "execute_result"
    }
   ],
   "source": [
    "diabetes_y_pred = my_model.predict(diabetes_X_test)\n",
    "diabetes_y_test = np.array(diabetes_y_test)\n",
    "diabetes_y_pred = np.array(diabetes_y_pred).reshape(diabetes_y_test.shape)\n",
    "pd.DataFrame(data=np.array([diabetes_y_test, diabetes_y_pred,\n",
    "                            abs(diabetes_y_test - diabetes_y_pred)]).T,\n",
    "             columns=[\"Labels\", \"Predictions\", \"Dif\"])"
   ]
  },
  {
   "cell_type": "code",
   "execution_count": 11,
   "metadata": {},
   "outputs": [
    {
     "data": {
      "text/plain": [
       "52.178260414609625"
      ]
     },
     "execution_count": 11,
     "metadata": {},
     "output_type": "execute_result"
    }
   ],
   "source": [
    "math.sqrt(mean_squared_error(diabetes_y_test, diabetes_y_pred))"
   ]
  }
 ],
 "metadata": {
  "kernelspec": {
   "display_name": "base",
   "language": "python",
   "name": "python3"
  },
  "language_info": {
   "codemirror_mode": {
    "name": "ipython",
    "version": 3
   },
   "file_extension": ".py",
   "mimetype": "text/x-python",
   "name": "python",
   "nbconvert_exporter": "python",
   "pygments_lexer": "ipython3",
   "version": "3.11.5"
  }
 },
 "nbformat": 4,
 "nbformat_minor": 2
}
